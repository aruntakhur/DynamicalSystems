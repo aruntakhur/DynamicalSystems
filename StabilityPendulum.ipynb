{
  "nbformat": 4,
  "nbformat_minor": 0,
  "metadata": {
    "colab": {
      "name": "StabilityPendulum.ipynb",
      "provenance": [],
      "authorship_tag": "ABX9TyNKrylAD2trD5fqv85fcAdd",
      "include_colab_link": true
    },
    "kernelspec": {
      "name": "python3",
      "display_name": "Python 3"
    },
    "language_info": {
      "name": "python"
    }
  },
  "cells": [
    {
      "cell_type": "markdown",
      "metadata": {
        "id": "view-in-github",
        "colab_type": "text"
      },
      "source": [
        "<a href=\"https://colab.research.google.com/github/aruntakhur/DynamicalSystems/blob/main/StabilityPendulum.ipynb\" target=\"_parent\"><img src=\"https://colab.research.google.com/assets/colab-badge.svg\" alt=\"Open In Colab\"/></a>"
      ]
    },
    {
      "cell_type": "code",
      "metadata": {
        "id": "0W2eI6gMALpl"
      },
      "source": [
        "import numpy as np"
      ],
      "execution_count": 1,
      "outputs": []
    },
    {
      "cell_type": "code",
      "metadata": {
        "id": "uQJJrN7WAXgI"
      },
      "source": [
        "g=9.8\n",
        "L=2\n",
        "mu=0.1\n",
        "THETA_0 = np.pi/3\n",
        "THETA_DOT_0 = 0"
      ],
      "execution_count": 2,
      "outputs": []
    },
    {
      "cell_type": "code",
      "metadata": {
        "id": "pO01Nyr2AdnL"
      },
      "source": [
        "def get_theta_double_dot(theta, theta_dot):\n",
        "  return -mu*theta_dot-(g/L)*np.sin(theta)"
      ],
      "execution_count": 3,
      "outputs": []
    },
    {
      "cell_type": "code",
      "metadata": {
        "id": "moq_oXbIA5eM"
      },
      "source": [
        "def theta(t):\n",
        "  theta = THETA_0\n",
        "  theta_dot = THETA_DOT_0\n",
        "  delta_t = 0.01\n",
        "  for time in np.arange(0,t,delta_t):\n",
        "    theta_double_dot = get_theta_double_dot(theta, theta_dot)\n",
        "    theta += theta_dot * delta_t\n",
        "    theta_dot += theta_double_dot * delta_t\n",
        "  return theta"
      ],
      "execution_count": 16,
      "outputs": []
    },
    {
      "cell_type": "code",
      "metadata": {
        "colab": {
          "base_uri": "https://localhost:8080/"
        },
        "id": "pBHTdiZkByPz",
        "outputId": "4e2ca863-de58-4eee-e39e-b454473ba999"
      },
      "source": [
        "print(theta(1000))"
      ],
      "execution_count": 17,
      "outputs": [
        {
          "output_type": "stream",
          "text": [
            "6.398453728311933e-12\n"
          ],
          "name": "stdout"
        }
      ]
    }
  ]
}